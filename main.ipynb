{
 "cells": [
  {
   "cell_type": "code",
   "execution_count": 1,
   "metadata": {},
   "outputs": [],
   "source": [
    "import pandas as pd\n",
    "from sklearn.model_selection import train_test_split\n",
    "from sklearn.preprocessing import OneHotEncoder\n",
    "from sklearn.metrics import r2_score, mean_absolute_error, mean_squared_error\n",
    "from sklearn.linear_model import LinearRegression\n",
    "import matplotlib.pyplot as plt\n",
    "import seaborn as sns\n",
    "from sklearn.tree import DecisionTreeRegressor\n",
    "from sklearn.ensemble import RandomForestRegressor, GradientBoostingRegressor"
   ]
  },
  {
   "cell_type": "code",
   "execution_count": 2,
   "metadata": {},
   "outputs": [
    {
     "name": "stdout",
     "output_type": "stream",
     "text": [
      "La columna 'Sales' está presente en el DataFrame combinado.\n",
      "\n",
      "La columna 'Sales' sigue presente después de las transformaciones.\n",
      "\n",
      "¿La columna 'Sales' está en y_train?: False\n",
      "\n",
      "Valores de y_train (sin NaN):\n",
      "360184    6860.0\n",
      "162306    4850.0\n",
      "80802     6293.0\n",
      "607893    9541.0\n",
      "606656    5741.0\n",
      "Name: Sales, dtype: float64\n"
     ]
    }
   ],
   "source": [
    "# Cargar los datasets\n",
    "url_sales = 'https://raw.githubusercontent.com/data-bootcamp-v4/data/main/sales.csv'\n",
    "url_ironkaggle = 'https://raw.githubusercontent.com/data-bootcamp-v4/data/main/ironkaggle_notarget.csv'\n",
    "\n",
    "data_ventas = pd.read_csv(url_sales)\n",
    "data_ironkaggle = pd.read_csv(url_ironkaggle)\n",
    "\n",
    "# Combinar los datasets\n",
    "data_ventas = pd.concat([data_ventas, data_ironkaggle], ignore_index=True)\n",
    "\n",
    "# Asegurarse de que 'Sales' esté presente\n",
    "if 'Sales' not in data_ventas.columns:\n",
    "    print(\"Error: La columna 'Sales' no está en el DataFrame combinado.\")\n",
    "else:\n",
    "    print(\"La columna 'Sales' está presente en el DataFrame combinado.\")\n",
    "\n",
    "# Eliminar filas con valores NaN en 'Sales'\n",
    "data_ventas = data_ventas.dropna(subset=['Sales'])\n",
    "\n",
    "# Verificar nuevamente\n",
    "if 'Sales' in data_ventas.columns:\n",
    "    print(\"\\nLa columna 'Sales' sigue presente después de las transformaciones.\")\n",
    "else:\n",
    "    print(\"\\nLa columna 'Sales' NO está presente después de las transformaciones.\")\n",
    "\n",
    "# Dividir los datos en características (X) y variable objetivo (y)\n",
    "X = data_ventas.drop(columns=['Sales'])  # 'Sales' es la variable objetivo\n",
    "y = data_ventas['Sales']\n",
    "\n",
    "# División en conjunto de entrenamiento y prueba\n",
    "X_train, X_test, y_train, y_test = train_test_split(X, y, test_size=0.2, random_state=42)\n",
    "\n",
    "# Verificamos que la columna 'Sales' esté en y_train\n",
    "print(\"\\n¿La columna 'Sales' está en y_train?:\", 'Sales' in y_train.index)\n",
    "\n",
    "# Para verificar que 'y_train' contiene los datos correctos\n",
    "print(\"\\nValores de y_train (sin NaN):\")\n",
    "print(y_train.head())\n",
    "\n",
    "\n"
   ]
  },
  {
   "cell_type": "code",
   "execution_count": 3,
   "metadata": {},
   "outputs": [
    {
     "data": {
      "text/plain": [
       "True_index               int64\n",
       "Store_ID                 int64\n",
       "Day_of_week              int64\n",
       "Date                    object\n",
       "Nb_customers_on_day      int64\n",
       "Open                     int64\n",
       "Promotion                int64\n",
       "State_holiday           object\n",
       "School_holiday           int64\n",
       "Sales                  float64\n",
       "dtype: object"
      ]
     },
     "execution_count": 3,
     "metadata": {},
     "output_type": "execute_result"
    }
   ],
   "source": [
    "data_ventas.dtypes"
   ]
  },
  {
   "cell_type": "code",
   "execution_count": 4,
   "metadata": {},
   "outputs": [
    {
     "name": "stdout",
     "output_type": "stream",
     "text": [
      "True_index             int64\n",
      "Store_ID               int64\n",
      "Nb_customers_on_day    int64\n",
      "Open                   int64\n",
      "Promotion              int64\n",
      "Day_of_week_2           bool\n",
      "Day_of_week_3           bool\n",
      "Day_of_week_4           bool\n",
      "Day_of_week_5           bool\n",
      "Day_of_week_6           bool\n",
      "Day_of_week_7           bool\n",
      "State_holiday_a         bool\n",
      "State_holiday_b         bool\n",
      "State_holiday_c         bool\n",
      "School_holiday_1        bool\n",
      "dtype: object\n"
     ]
    }
   ],
   "source": [
    "# Transformar variables categóricas\n",
    "data_ventas = pd.get_dummies(data_ventas, columns=['Day_of_week', 'State_holiday', 'School_holiday'], drop_first=True)\n",
    "\n",
    "# Eliminamos la columna 'Date' del dataframe original antes de la división\n",
    "data_ventas = data_ventas.drop(columns=['Date'])\n",
    "\n",
    "# Dividimos los datos en características (X) y variable objetivo (y)\n",
    "X = data_ventas.drop(columns=['Sales'])  # 'Sales' es la variable objetivo\n",
    "y = data_ventas['Sales']\n",
    "\n",
    "# División en conjunto de entrenamiento y prueba\n",
    "from sklearn.model_selection import train_test_split\n",
    "X_train, X_test, y_train, y_test = train_test_split(X, y, test_size=0.2, random_state=42)\n",
    "\n",
    "# Verificamos que la columna 'Date' no esté en X_train\n",
    "print(X_train.dtypes)"
   ]
  },
  {
   "cell_type": "code",
   "execution_count": 5,
   "metadata": {},
   "outputs": [
    {
     "data": {
      "text/plain": [
       "True_index               int64\n",
       "Store_ID                 int64\n",
       "Nb_customers_on_day      int64\n",
       "Open                     int64\n",
       "Promotion                int64\n",
       "Sales                  float64\n",
       "Day_of_week_2             bool\n",
       "Day_of_week_3             bool\n",
       "Day_of_week_4             bool\n",
       "Day_of_week_5             bool\n",
       "Day_of_week_6             bool\n",
       "Day_of_week_7             bool\n",
       "State_holiday_a           bool\n",
       "State_holiday_b           bool\n",
       "State_holiday_c           bool\n",
       "School_holiday_1          bool\n",
       "dtype: object"
      ]
     },
     "execution_count": 5,
     "metadata": {},
     "output_type": "execute_result"
    }
   ],
   "source": [
    "data_ventas.dtypes"
   ]
  },
  {
   "cell_type": "code",
   "execution_count": 6,
   "metadata": {},
   "outputs": [
    {
     "name": "stdout",
     "output_type": "stream",
     "text": [
      "True_index             int64\n",
      "Store_ID               int64\n",
      "Nb_customers_on_day    int64\n",
      "Open                   int64\n",
      "Promotion              int64\n",
      "Day_of_week_2           bool\n",
      "Day_of_week_3           bool\n",
      "Day_of_week_4           bool\n",
      "Day_of_week_5           bool\n",
      "Day_of_week_6           bool\n",
      "Day_of_week_7           bool\n",
      "State_holiday_a         bool\n",
      "State_holiday_b         bool\n",
      "State_holiday_c         bool\n",
      "School_holiday_1        bool\n",
      "dtype: object\n"
     ]
    }
   ],
   "source": [
    "print(X_train.dtypes)"
   ]
  },
  {
   "cell_type": "code",
   "execution_count": 7,
   "metadata": {},
   "outputs": [],
   "source": [
    "# Crear el modelo\n",
    "model = LinearRegression()\n",
    "\n",
    "# Entrenar el modelo\n",
    "model.fit(X_train, y_train)\n",
    "\n",
    "# Predecir en los datos de test\n",
    "y_pred = model.predict(X_test)"
   ]
  },
  {
   "cell_type": "code",
   "execution_count": 8,
   "metadata": {},
   "outputs": [
    {
     "name": "stdout",
     "output_type": "stream",
     "text": [
      "R²: 0.8568510127663367\n",
      "MAE: 974.8105705879465\n",
      "MSE: 2155110.2875035377\n"
     ]
    }
   ],
   "source": [
    "# Calcular R2, MAE, y MSE\n",
    "r2 = r2_score(y_test, y_pred)\n",
    "mae = mean_absolute_error(y_test, y_pred)\n",
    "mse = mean_squared_error(y_test, y_pred)\n",
    "\n",
    "print(f'R²: {r2}')\n",
    "print(f'MAE: {mae}')\n",
    "print(f'MSE: {mse}')"
   ]
  },
  {
   "cell_type": "code",
   "execution_count": 9,
   "metadata": {},
   "outputs": [
    {
     "name": "stdout",
     "output_type": "stream",
     "text": [
      "                         R²         MAE           MSE\n",
      "Regresión Lineal   0.856851  974.810571  2.155110e+06\n",
      "Árbol de Decisión  0.922061  598.752192  1.173374e+06\n",
      "Random Forest      0.953658  495.010775  6.976787e+05\n",
      "Gradient Boosting  0.881497  891.708779  1.784065e+06\n"
     ]
    }
   ],
   "source": [
    "def evaluar_modelo(modelo, X_train, y_train, X_test, y_test):\n",
    "    # Entrenamos el modelo\n",
    "    modelo.fit(X_train, y_train)\n",
    "    \n",
    "    # Predicciones\n",
    "    y_pred = modelo.predict(X_test)\n",
    "    \n",
    "    # Cálculo de métricas\n",
    "    r2 = r2_score(y_test, y_pred)\n",
    "    mae = mean_absolute_error(y_test, y_pred)\n",
    "    mse = mean_squared_error(y_test, y_pred)\n",
    "    \n",
    "    return r2, mae, mse\n",
    "\n",
    "# Lista de modelos a comparar\n",
    "modelos = {\n",
    "    \"Regresión Lineal\": LinearRegression(),\n",
    "    \"Árbol de Decisión\": DecisionTreeRegressor(random_state=42),\n",
    "    \"Random Forest\": RandomForestRegressor(random_state=42),\n",
    "    \"Gradient Boosting\": GradientBoostingRegressor(random_state=42)\n",
    "}\n",
    "\n",
    "# Comparar los modelos\n",
    "resultados = {}\n",
    "\n",
    "for nombre, modelo in modelos.items():\n",
    "    r2, mae, mse = evaluar_modelo(modelo, X_train, y_train, X_test, y_test)\n",
    "    resultados[nombre] = {'R²': r2, 'MAE': mae, 'MSE': mse}\n",
    "\n",
    "# Mostrar los resultados\n",
    "resultados_df = pd.DataFrame(resultados).T\n",
    "print(resultados_df)\n"
   ]
  },
  {
   "cell_type": "code",
   "execution_count": 10,
   "metadata": {},
   "outputs": [
    {
     "name": "stderr",
     "output_type": "stream",
     "text": [
      "C:\\Users\\Carlos\\AppData\\Local\\Temp\\ipykernel_16624\\2652315939.py:13: FutureWarning: \n",
      "\n",
      "Passing `palette` without assigning `hue` is deprecated and will be removed in v0.14.0. Assign the `x` variable to `hue` and set `legend=False` for the same effect.\n",
      "\n",
      "  sns.barplot(x=resultados_df.index, y='R²', data=resultados_df, palette='viridis')\n",
      "C:\\Users\\Carlos\\AppData\\Local\\Temp\\ipykernel_16624\\2652315939.py:22: FutureWarning: \n",
      "\n",
      "Passing `palette` without assigning `hue` is deprecated and will be removed in v0.14.0. Assign the `x` variable to `hue` and set `legend=False` for the same effect.\n",
      "\n",
      "  sns.barplot(x=resultados_df.index, y='MAE', data=resultados_df, palette='viridis')\n",
      "C:\\Users\\Carlos\\AppData\\Local\\Temp\\ipykernel_16624\\2652315939.py:30: FutureWarning: \n",
      "\n",
      "Passing `palette` without assigning `hue` is deprecated and will be removed in v0.14.0. Assign the `x` variable to `hue` and set `legend=False` for the same effect.\n",
      "\n",
      "  sns.barplot(x=resultados_df.index, y='MSE', data=resultados_df, palette='viridis')\n"
     ]
    },
    {
     "data": {
      "image/png": "[encoded data removed]",
      "text/plain": [
       "<Figure size 1600x600 with 3 Axes>"
      ]
     },
     "metadata": {},
     "output_type": "display_data"
    },
    {
     "data": {
      "text/plain": [
       "<Figure size 640x480 with 0 Axes>"
      ]
     },
     "metadata": {},
     "output_type": "display_data"
    }
   ],
   "source": [
    "# Configurar el estilo de la gráfica\n",
    "sns.set(style=\"whitegrid\")\n",
    "\n",
    "# Crear un DataFrame a partir de los resultados\n",
    "resultados_df = pd.DataFrame(resultados).T\n",
    "\n",
    "# Crear una figura y ejes\n",
    "plt.figure(figsize=(16, 6))\n",
    "\n",
    "\n",
    "# Graficar R²\n",
    "plt.subplot(1, 3, 1)\n",
    "sns.barplot(x=resultados_df.index, y='R²', data=resultados_df, palette='viridis')\n",
    "plt.title('R² por Modelo')\n",
    "plt.ylim(0, 1)\n",
    "plt.xlabel('Modelo')\n",
    "plt.ylabel('R²')\n",
    "plt.xticks(rotation=45)  # Rotar las etiquetas del eje x\n",
    "\n",
    "# Graficar MAE\n",
    "plt.subplot(1, 3, 2)\n",
    "sns.barplot(x=resultados_df.index, y='MAE', data=resultados_df, palette='viridis')\n",
    "plt.title('MAE por Modelo')\n",
    "plt.xlabel('Modelo')\n",
    "plt.ylabel('MAE')\n",
    "plt.xticks(rotation=45)  # Rotar las etiquetas del eje x\n",
    "\n",
    "# Graficar MSE\n",
    "plt.subplot(1, 3, 3)\n",
    "sns.barplot(x=resultados_df.index, y='MSE', data=resultados_df, palette='viridis')\n",
    "plt.title('MSE por Modelo')\n",
    "plt.xlabel('Modelo')\n",
    "plt.ylabel('MSE')\n",
    "plt.xticks(rotation=45)  # Rotar las etiquetas del eje x\n",
    "\n",
    "# Ajustar el espacio entre subgráficas\n",
    "plt.tight_layout()\n",
    "plt.show()\n",
    "\n",
    "\n",
    "# Ajustar el espacio entre subgráficas\n",
    "plt.tight_layout()\n",
    "plt.show()\n"
   ]
  }
 ],
 "metadata": {
  "kernelspec": {
   "display_name": "Python 3",
   "language": "python",
   "name": "python3"
  },
  "language_info": {
   "codemirror_mode": {
    "name": "ipython",
    "version": 3
   },
   "file_extension": ".py",
   "mimetype": "text/x-python",
   "name": "python",
   "nbconvert_exporter": "python",
   "pygments_lexer": "ipython3",
   "version": "3.11.7"
  }
 },
 "nbformat": 4,
 "nbformat_minor": 2
}
